{
  "nbformat": 4,
  "nbformat_minor": 0,
  "metadata": {
    "colab": {
      "provenance": [],
      "include_colab_link": true
    },
    "kernelspec": {
      "name": "python3",
      "display_name": "Python 3"
    },
    "language_info": {
      "name": "python"
    }
  },
  "cells": [
    {
      "cell_type": "markdown",
      "metadata": {
        "id": "view-in-github",
        "colab_type": "text"
      },
      "source": [
        "<a href=\"https://colab.research.google.com/github/sairuslv/Excel-Final-Assessment/blob/main/Python/PracticeFiles/Practice_1_Python_Basics.ipynb\" target=\"_parent\"><img src=\"https://colab.research.google.com/assets/colab-badge.svg\" alt=\"Open In Colab\"/></a>"
      ]
    },
    {
      "cell_type": "markdown",
      "source": [
        "**Question 1:**\n",
        "\n",
        "A weather forecasting company wants to store daily temperature data for different cities.\n",
        "Develop a Python program to prompt users to input temperature data for multiple cities and store it in appropriate variables."
      ],
      "metadata": {
        "id": "__AjJ41SybLc"
      }
    },
    {
      "cell_type": "code",
      "source": [
        "city_temperatures = {};\n",
        "\n",
        "num_cities = int(input(\"Enter the number of cities: \"))\n",
        "for i in range(num_cities):\n",
        "    city = input(f\"Enter the name of city {i+1}: \")\n",
        "    temperature = float(input(f\"Enter the temperature for {city} (in Celsius): \"))\n",
        "    city_temperatures[city] = temperature\n",
        "\n",
        "print(\"\\nTemperature data for all cities:\")\n",
        "for city, temperature in city_temperatures.items():\n",
        "    print(f\"{city}: {temperature}°C\")"
      ],
      "metadata": {
        "id": "_EWeK0NR0N7-",
        "outputId": "2d669b12-19c2-4bc3-eaeb-8c9c4258dfe1",
        "colab": {
          "base_uri": "https://localhost:8080/"
        }
      },
      "execution_count": null,
      "outputs": [
        {
          "output_type": "stream",
          "name": "stdout",
          "text": [
            "Enter the number of cities: 1\n",
            "Enter the name of city 1: Rou\n",
            "Enter the temperature for Rou (in Celsius): 15\n",
            "\n",
            "Temperature data for all cities:\n",
            "Rou: 15.0°C\n"
          ]
        }
      ]
    },
    {
      "cell_type": "markdown",
      "source": [
        "**Question 2:**\n",
        " A gaming company is developing a character creation system for their new role-playing game. Develop a Python program that allows users to input characteristics such as name, race, class, and abilities for their characters."
      ],
      "metadata": {
        "id": "3VGBYQEfKYBA"
      }
    },
    {
      "cell_type": "code",
      "source": [
        "character = {}\n",
        "print(\"Character Creation System\")\n",
        "character[\"name\"] = input(\"Enter character name: \")\n",
        "character[\"race\"] = input(\"Enter character race: \")\n",
        "character[\"class\"] = input(\"Enter character class: \")\n",
        "num_abilities = int(input(\"Enter the number of abilities: \"))\n",
        "character[\"abilities\"] = []\n",
        "\n",
        "for i in range(num_abilities):\n",
        "    ability_name = input(f\"Enter ability {i+1} name: \")\n",
        "    ability_power = float(input(f\"Enter ability {i+1} score: \"))\n",
        "    character[\"abilities\"].append((ability_name, ability_power))\n",
        "\n",
        "print(\"\\nCharacter Information:\")\n",
        "print(f\"Name: {character['name']}\")\n",
        "print(f\"Race: {character['race']}\")\n",
        "print(f\"Class: {character['class']}\")\n",
        "print(\"Abilities:\")\n",
        "for ability in character[\"abilities\"]:\n",
        "    print(f\"- {ability[0]}: {ability[1]}\")"
      ],
      "metadata": {
        "id": "aYNJxo_U5BG4",
        "outputId": "1140aa3b-0529-474f-fe50-acc29e5658b7",
        "colab": {
          "base_uri": "https://localhost:8080/"
        }
      },
      "execution_count": null,
      "outputs": [
        {
          "output_type": "stream",
          "name": "stdout",
          "text": [
            "Character Creation System\n",
            "Enter character name: Sai\n",
            "Enter character race: Aryan\n",
            "Enter character class: A\n",
            "Enter the number of abilities: 2\n",
            "Enter ability 1 name: Cunning\n",
            "Enter ability 1 score: 8.5\n",
            "Enter ability 2 name: Strong\n",
            "Enter ability 2 score: 9.2\n",
            "\n",
            "Character Information:\n",
            "Name: Sai\n",
            "Race: Aryan\n",
            "Class: A\n",
            "Abilities:\n",
            "- Cunning: 8.5\n",
            "- Strong: 9.2\n"
          ]
        }
      ]
    },
    {
      "cell_type": "markdown",
      "source": [
        "**Question 3:**\n",
        "You are organizing a school event where students will be asked to sign up using a form.Write a Python program that prompts the user to enter their name, age, and grade, and then prints a welcome message including their name and an appropriate message based on their age and grade.\n"
      ],
      "metadata": {
        "id": "sCV9rC3YCt9C"
      }
    },
    {
      "cell_type": "code",
      "source": [
        "\n",
        "name=input(\"Enter you name: \")\n",
        "age=input(\"Enter your age: \")\n",
        "grade=float(input(\"enter your grade: \"))\n",
        "print(f\"Welcome:{name} \\nYour age is {age} and your grade is {grade}\");\n",
        "\n",
        "\n"
      ],
      "metadata": {
        "id": "p_UtguQD6kjx",
        "outputId": "25707e1a-d0c2-4cc3-fb49-348b35f4fafa",
        "colab": {
          "base_uri": "https://localhost:8080/"
        }
      },
      "execution_count": null,
      "outputs": [
        {
          "output_type": "stream",
          "name": "stdout",
          "text": [
            "Enter you name: sam\n",
            "Enter your age: 24\n",
            "enter your grade: 7\n",
            "Welcome:sam \n",
            "Your age is 24 and your grade is 7.0\n"
          ]
        }
      ]
    },
    {
      "cell_type": "markdown",
      "source": [
        "**Question 4:**\n",
        "You are managing inventory for a small store. Write a Python program that simulates adding items to a shopping cart. Allow the user to input the item name, quantity, and price, and then calculate the total cost of the items in the cart."
      ],
      "metadata": {
        "id": "jtSomzgoyQO9"
      }
    },
    {
      "cell_type": "code",
      "source": [
        "cart=[]\n",
        "\n",
        "while True:\n",
        "  item_name= input(\"Enter item name or 'end' to quit insereting: \")\n",
        "  if item_name.lower()==\"end\":\n",
        "    break;\n",
        "  item_quantity=int(input(\"Enter item quantity: \"))\n",
        "  item_price=int(input(\"Enter each item price: \"))\n",
        "  cart.append({\"name\":item_name,\"qty\":item_quantity,\"price\":(item_price),\"total_price\":(item_price*item_quantity)})\n",
        "\n",
        "print(\"Items in the cart are: \\n\")\n",
        "total_cart_ammount=0;\n",
        "for it in cart:\n",
        "  print(f\"Item name: {it['name']} \\nItem quantity: {it['qty']} \\nItem Unit Price {it['price']} \\nTotal Price: {it['total_price']} \");\n",
        "  total_cart_ammount+=it['total_price']\n",
        "print(f\"Total amount of the cart is {total_cart_ammount}\");\n"
      ],
      "metadata": {
        "id": "70Zbuzw66iik",
        "outputId": "f33d8e9d-6e87-4a64-9109-048e50dc8d83",
        "colab": {
          "base_uri": "https://localhost:8080/"
        }
      },
      "execution_count": null,
      "outputs": [
        {
          "output_type": "stream",
          "name": "stdout",
          "text": [
            "Enter item name or 'end' to quit insereting: Apple\n",
            "Enter item quantity: 3\n",
            "Enter each item price: 10\n",
            "Enter item name or 'end' to quit insereting: Orange\n",
            "Enter item quantity: 3\n",
            "Enter each item price: 20\n",
            "Enter item name or 'end' to quit insereting: end\n",
            "Items in the cart are: \n",
            "\n",
            "Item name: Apple \n",
            "Item quantity: 3 \n",
            "Item Unit Price 10 \n",
            "Total Price: 30 \n",
            "Item name: Orange \n",
            "Item quantity: 3 \n",
            "Item Unit Price 20 \n",
            "Total Price: 60 \n",
            "Total amount of the cart is 90\n"
          ]
        }
      ]
    },
    {
      "cell_type": "markdown",
      "source": [
        "\n",
        "\n",
        "**Question 5:**\n",
        "A music streaming service wants to create personalized playlists for users based on their favorite genres and artists. Develop a Python program that uses lists and dictionaries to store user preferences and recommend songs accordingly.\n"
      ],
      "metadata": {
        "id": "JQxoLKZXDO-B"
      }
    },
    {
      "cell_type": "code",
      "source": [
        "\n",
        "user_preferences = {\n",
        "    \"Alice\": {\"favorite_genres\": [\"Pop\", \"Rock\"], \"favorite_artists\": [\"Ed Sheeran\", \"Coldplay\"]},\n",
        "    \"Bob\": {\"favorite_genres\": [\"Hip Hop\", \"R&B\"], \"favorite_artists\": [\"Drake\", \"Beyoncé\"]},\n",
        "    \"Charlie\": {\"favorite_genres\": [\"Electronic\", \"Indie\"], \"favorite_artists\": [\"Daft Punk\", \"Tame Impala\"]}\n",
        "}\n",
        "\n",
        "\n",
        "available_songs = [\n",
        "    {\"title\": \"Shape of You\", \"artist\": \"Ed Sheeran\", \"genre\": \"Pop\"},\n",
        "    {\"title\": \"Viva la Vida\", \"artist\": \"Coldplay\", \"genre\": \"Rock\"},\n",
        "    {\"title\": \"God's Plan\", \"artist\": \"Drake\", \"genre\": \"Hip Hop\"},\n",
        "    {\"title\": \"Halo\", \"artist\": \"Beyoncé\", \"genre\": \"R&B\"},\n",
        "    {\"title\": \"Get Lucky\", \"artist\": \"Daft Punk\", \"genre\": \"Electronic\"},\n",
        "    {\"title\": \"The Less I Know the Better\", \"artist\": \"Tame Impala\", \"genre\": \"Indie\"},\n",
        "    {\"title\": \"Adventure of a Lifetime\", \"artist\": \"Coldplay\", \"genre\": \"Rock\"},\n",
        "    {\"title\": \"Perfect\", \"artist\": \"Ed Sheeran\", \"genre\": \"Pop\"},\n",
        "    {\"title\": \"Hotline Bling\", \"artist\": \"Drake\", \"genre\": \"Hip Hop\"},\n",
        "    {\"title\": \"Crazy in Love\", \"artist\": \"Beyoncé\", \"genre\": \"R&B\"},\n",
        "    {\"title\": \"One More Time\", \"artist\": \"Daft Punk\", \"genre\": \"Electronic\"},\n",
        "    {\"title\": \"Feels Like We Only Go Backwards\", \"artist\": \"Tame Impala\", \"genre\": \"Indie\"}\n",
        "]\n",
        "\n",
        "\n",
        "def recommend_songs(user_name):\n",
        "    user_prefs = user_preferences.get(user_name)\n",
        "    if not user_prefs:\n",
        "        print(f\"User '{user_name}' not found.\")\n",
        "        return\n",
        "\n",
        "    favorite_genres = user_prefs[\"favorite_genres\"]\n",
        "    favorite_artists = user_prefs[\"favorite_artists\"]\n",
        "\n",
        "    recommended_songs = []\n",
        "    for song in available_songs:\n",
        "        if song[\"genre\"] in favorite_genres or song[\"artist\"] in favorite_artists:\n",
        "            recommended_songs.append(song)\n",
        "\n",
        "    if recommended_songs:\n",
        "        print(f\"Recommended songs for {user_name}:\")\n",
        "        for song in recommended_songs:\n",
        "            print(f\"- {song['title']} by {song['artist']} ({song['genre']})\")\n",
        "    else:\n",
        "        print(f\"No recommended songs found for {user_name}.\")\n",
        "\n",
        "n= int(input(\"Type 1 for Alice's recomendation, 2 for Bob's recomendation, 3 for Charlie \"))\n",
        "\n",
        "map={1:\"Alice\",2:\"Bob\",3:\"Charlie\",4:\"David\"};\n",
        "if(n<4):\n",
        "  recommend_songs(map[n]);\n",
        "else:\n",
        "  recommend_songs(map[4]);\n",
        "\n"
      ],
      "metadata": {
        "id": "4oYnLq09LcjF",
        "outputId": "b5143539-c91a-4041-94e8-d42b7c57902c",
        "colab": {
          "base_uri": "https://localhost:8080/"
        }
      },
      "execution_count": null,
      "outputs": [
        {
          "output_type": "stream",
          "name": "stdout",
          "text": [
            "Type 1 for Alice's recomendation, 2 for Bob's recomendation, 3 for Charlie 1\n",
            "Recommended songs for Alice:\n",
            "- Shape of You by Ed Sheeran (Pop)\n",
            "- Viva la Vida by Coldplay (Rock)\n",
            "- Adventure of a Lifetime by Coldplay (Rock)\n",
            "- Perfect by Ed Sheeran (Pop)\n"
          ]
        }
      ]
    },
    {
      "cell_type": "markdown",
      "source": [
        "**Question 6:**\n",
        "A logistics company needs to track the inventory levels of different products in multiple warehouses. Develop a Python program that uses nested dictionaries to represent warehouse inventory data and allows users to update and retrieve information.\n"
      ],
      "metadata": {
        "id": "hgg43ZyxDwmt"
      }
    },
    {
      "cell_type": "code",
      "source": [
        "\n",
        "warehouse_inventory = {\n",
        "    \"Warehouse_A\": {\n",
        "        \"product1\": 100,\n",
        "        \"product2\": 50,\n",
        "        \"product3\": 75\n",
        "    },\n",
        "    \"Warehouse_B\": {\n",
        "        \"product1\": 150,\n",
        "        \"product2\": 100,\n",
        "        \"product3\": 125\n",
        "    }\n",
        "}\n",
        "\n",
        "def get_inventory(warehouse, product):\n",
        "    if warehouse in warehouse_inventory and product in warehouse_inventory[warehouse]:\n",
        "        return warehouse_inventory[warehouse][product]\n",
        "    else:\n",
        "        return f\"Product '{product}' not found in warehouse '{warehouse}'.\"\n",
        "\n",
        "def update_inventory(warehouse, product, quantity):\n",
        "    if warehouse in warehouse_inventory:\n",
        "        if product in warehouse_inventory[warehouse]:\n",
        "            warehouse_inventory[warehouse][product] += quantity\n",
        "            print(f\"Inventory updated: {quantity} units added to product '{product}' in warehouse '{warehouse}'.\")\n",
        "        else:\n",
        "            warehouse_inventory[warehouse][product] = quantity\n",
        "            print(f\"New product '{product}' added to warehouse '{warehouse}' with inventory of {quantity} units.\")\n",
        "    else:\n",
        "        print(f\"Warehouse '{warehouse}' not found.\")\n",
        "\n",
        "\n",
        "print(\"Initial inventory levels:\")\n",
        "print(warehouse_inventory)\n",
        "\n",
        "update_inventory(\"Warehouse_A\", \"product1\", 50)\n",
        "update_inventory(\"Warehouse_C\", \"product4\", 200)\n",
        "\n",
        "print(\"\\nUpdated inventory levels:\")\n",
        "print(warehouse_inventory)\n",
        "\n",
        "print(\"\\nInventory of product1 in Warehouse_A:\", get_inventory(\"Warehouse_A\", \"product1\"))\n",
        "print(\"Inventory of product4 in Warehouse_C:\", get_inventory(\"Warehouse_C\", \"product4\"))\n"
      ],
      "metadata": {
        "id": "cijx57V6obdK",
        "outputId": "e20319ad-04c9-4414-c495-8dd00aa8c53e",
        "colab": {
          "base_uri": "https://localhost:8080/"
        }
      },
      "execution_count": null,
      "outputs": [
        {
          "output_type": "stream",
          "name": "stdout",
          "text": [
            "Initial inventory levels:\n",
            "{'Warehouse_A': {'product1': 100, 'product2': 50, 'product3': 75}, 'Warehouse_B': {'product1': 150, 'product2': 100, 'product3': 125}}\n",
            "Inventory updated: 50 units added to product 'product1' in warehouse 'Warehouse_A'.\n",
            "Warehouse 'Warehouse_C' not found.\n",
            "\n",
            "Updated inventory levels:\n",
            "{'Warehouse_A': {'product1': 150, 'product2': 50, 'product3': 75}, 'Warehouse_B': {'product1': 150, 'product2': 100, 'product3': 125}}\n",
            "\n",
            "Inventory of product1 in Warehouse_A: 150\n",
            "Inventory of product4 in Warehouse_C: Product 'product4' not found in warehouse 'Warehouse_C'.\n"
          ]
        }
      ]
    },
    {
      "cell_type": "markdown",
      "source": [
        "**Question 7:**\n",
        "You are organizing a team-building activity for a group of students. Write a Python program that randomly assigns students to teams of 3. Ensure that each team has an equal number of members, and print out the list of teams with their members.\n"
      ],
      "metadata": {
        "id": "KIKOrOSTD-EU"
      }
    },
    {
      "cell_type": "code",
      "source": [
        "import random\n",
        "\n"
      ],
      "metadata": {
        "id": "H1MUWlMxpWwk"
      },
      "execution_count": null,
      "outputs": []
    },
    {
      "cell_type": "code",
      "source": [
        "\n",
        "students = [\"Alice\", \"Bob\", \"Charlie\", \"David\", \"Eva\", \"Frank\", \"Grace\", \"Hannah\", \"Ivy\", \"Jack\", \"Kelly\", \"Liam\"]\n",
        "\n",
        "\n",
        "random.shuffle(students)\n",
        "\n",
        "num_teams = len(students) // 3\n",
        "# print(num_teams)\n",
        "\n",
        "teams = []\n",
        "for i in range(num_teams):\n",
        "    team = []\n",
        "    for j in range(3):\n",
        "        student = students.pop()\n",
        "        team.append(student)\n",
        "    teams.append(team)\n",
        "\n",
        "print(\"Teams:\")\n",
        "for i, team in enumerate(teams):\n",
        "    print(f\"Team {i+1}: {', '.join(team)}\")\n"
      ],
      "metadata": {
        "id": "XB3LQFmspe4y",
        "outputId": "5a20c42c-adf9-4aa6-899d-333f272a85e2",
        "colab": {
          "base_uri": "https://localhost:8080/"
        }
      },
      "execution_count": null,
      "outputs": [
        {
          "output_type": "stream",
          "name": "stdout",
          "text": [
            "Teams:\n",
            "Team 1: Liam, Grace, Jack\n",
            "Team 2: Frank, Charlie, Bob\n",
            "Team 3: Eva, Hannah, Alice\n",
            "Team 4: Ivy, David, Kelly\n"
          ]
        }
      ]
    },
    {
      "cell_type": "markdown",
      "source": [
        "**Question 8:**\n",
        "You are building a password manager application. Write a Python program that stores passwords for different accounts in a dictionary, where the keys are the account names and the values are the passwords. Allow the user to add, retrieve, and delete passwords.\n"
      ],
      "metadata": {
        "id": "JIp7dNH3EJwV"
      }
    },
    {
      "cell_type": "code",
      "source": [
        "\n",
        "passwords = {}\n",
        "\n",
        "\n",
        "def add_password(account, password):\n",
        "    if account in passwords:\n",
        "        print(f\"Account '{account}' already exists. Password updated.\")\n",
        "    passwords[account] = password\n",
        "    print(f\"Password added for account '{account}'.\")\n",
        "\n",
        "\n",
        "def retrieve_password(account):\n",
        "    if account in passwords:\n",
        "        return passwords[account]\n",
        "    else:\n",
        "        return f\"No password found for account '{account}'.\"\n",
        "\n",
        "\n",
        "def delete_password(account):\n",
        "    if account in passwords:\n",
        "        del passwords[account]\n",
        "        print(f\"Password for account '{account}' deleted.\")\n",
        "    else:\n",
        "        print(f\"No password found for account '{account}'.\")\n",
        "\n",
        "\n",
        "# add_password(\"example_account\", \"example_password\")\n",
        "# print(retrieve_password(\"example_account\"))\n",
        "# delete_password(\"example_account\")\n",
        "# print(retrieve_password(\"example_account\"))\n",
        "\n",
        "while True:\n",
        "  n= int(input(\"1 for add account and password, 2 for retrive, 3 for delete, 4 to end : \"))\n",
        "  if(n==1):\n",
        "    acc=str(input(\"Enter account name: \"))\n",
        "    pas=str(input(\"Enter account password: \"))\n",
        "    add_password(acc,pas);\n",
        "  elif(n==2):\n",
        "    acc=str(input(\"Enter account name: \"))\n",
        "    print(retrieve_password(acc))\n",
        "  elif(n==3):\n",
        "    acc=str(input(\"Enter the account to be deleted: \"));\n",
        "    delete_password(acc);\n",
        "  else:\n",
        "    break;\n"
      ],
      "metadata": {
        "id": "YO2IMOC8rOKI",
        "outputId": "c836a552-b240-489a-add1-68ff3ae031cf",
        "colab": {
          "base_uri": "https://localhost:8080/"
        }
      },
      "execution_count": null,
      "outputs": [
        {
          "name": "stdout",
          "output_type": "stream",
          "text": [
            "1 for add account and password, 2 for retrive, 3 for delete, 4 to end : 2\n",
            "Enter account name: sai\n",
            "No password found for account 'sai'.\n",
            "1 for add account and password, 2 for retrive, 3 for delete, 4 to end : 1\n",
            "Enter account name: sai\n",
            "Enter account password: sam123\n",
            "Password added for account 'sai'.\n",
            "1 for add account and password, 2 for retrive, 3 for delete, 4 to end : 2\n",
            "Enter account name: sai\n",
            "sam123\n",
            "1 for add account and password, 2 for retrive, 3 for delete, 4 to end : 2\n",
            "Enter account name: sai\n",
            "sam123\n",
            "1 for add account and password, 2 for retrive, 3 for delete, 4 to end : 3\n",
            "Enter the account to be deleted: sai\n",
            "Password for account 'sai' deleted.\n",
            "1 for add account and password, 2 for retrive, 3 for delete, 4 to end : 2\n",
            "Enter account name: sai\n",
            "No password found for account 'sai'.\n",
            "1 for add account and password, 2 for retrive, 3 for delete, 4 to end : 4\n"
          ]
        }
      ]
    },
    {
      "cell_type": "markdown",
      "source": [
        "**Question 9:**\n",
        "A fitness app wants to calculate the user's body mass index (BMI) based on their weight and height. Develop a Python program that prompts users to input their weight (in kilograms) and height (in meters) and calculates their BMI using arithmetic operators.\n"
      ],
      "metadata": {
        "id": "CUsHHfNOFlq5"
      }
    },
    {
      "cell_type": "code",
      "source": [
        "\n",
        "def calculate_bmi(weight, height):\n",
        "    return weight / (height ** 2)\n",
        "\n",
        "weight = float(input(\"Enter your weight in kilograms: \"))\n",
        "height = float(input(\"Enter your height in meters: \"))\n",
        "\n",
        "bmi = round(calculate_bmi(weight, height))\n",
        "\n",
        "print(\"Your BMI is:\", bmi)\n"
      ],
      "metadata": {
        "id": "7dX-uky0tu1V",
        "outputId": "f12bf067-8817-4728-dd5c-12f5c29aa43f",
        "colab": {
          "base_uri": "https://localhost:8080/"
        }
      },
      "execution_count": null,
      "outputs": [
        {
          "output_type": "stream",
          "name": "stdout",
          "text": [
            "Enter your weight in kilograms: 81\n",
            "Enter your height in meters: 1.6\n",
            "Your BMI is: 32\n"
          ]
        }
      ]
    },
    {
      "cell_type": "markdown",
      "source": [
        "**Question 10:**\n",
        "A financial institution wants to calculate compound interest for different investment accounts. Develop a Python program that prompts users to input the principal amount, interest rate, and time period, and calculates the compound interest using arithmetic operators.\n"
      ],
      "metadata": {
        "id": "qkqAJc6zF76J"
      }
    },
    {
      "cell_type": "code",
      "source": [
        "pr_amt=float(input(\"Enter principal amount: \"))\n",
        "int_rate=float( input(\"Enter interest rate: \"))\n",
        "time=float(input(\"Enter time period: \"))\n",
        "int_rate/=100;\n",
        "ci = pr_amt * (1 + int_rate)**time - pr_amt\n",
        "\n",
        "print(round(ci,2))"
      ],
      "metadata": {
        "id": "Qs_qmSf_uJI4",
        "outputId": "ca80b1c2-fb9d-4c1e-b974-e676cfae5d33",
        "colab": {
          "base_uri": "https://localhost:8080/"
        }
      },
      "execution_count": null,
      "outputs": [
        {
          "output_type": "stream",
          "name": "stdout",
          "text": [
            "Enter principal amount: 1000\n",
            "Enter interest rate: 5\n",
            "Enter time period: 4\n",
            "215.51\n"
          ]
        }
      ]
    },
    {
      "cell_type": "markdown",
      "source": [
        "**Question 11:**\n",
        "You are designing a game where players roll two dice and sum the results. Write a Python program that simulates rolling two dice and calculates the sum. Allow the user to roll the dice multiple times and display the results.\n"
      ],
      "metadata": {
        "id": "mpJPLo9uGFi3"
      }
    },
    {
      "cell_type": "code",
      "source": [
        "import random"
      ],
      "metadata": {
        "id": "7pmU477Uw6Es"
      },
      "execution_count": null,
      "outputs": []
    },
    {
      "cell_type": "code",
      "source": [
        "\n",
        "def roll_dice():\n",
        "    die1 = random.randint(1, 6)\n",
        "    die2 = random.randint(1, 6)\n",
        "    return die1, die2, die1 + die2\n",
        "\n",
        "\n",
        "def main():\n",
        "    num_rolls = int(input(\"Enter the number of times you want to roll the dice: \"))\n",
        "\n",
        "    print(\"\\nRolling the dice\", num_rolls, \"times:\")\n",
        "    for i in range(num_rolls):\n",
        "        die1, die2, total = roll_dice()\n",
        "        print(f\"Roll {i+1}: Die 1: {die1}, Die 2: {die2}, Total: {total}\")\n",
        "\n",
        "main()\n"
      ],
      "metadata": {
        "id": "M6RJF4MUw6M2",
        "outputId": "1c470d1a-2eb9-4634-f19e-64883284a0d0",
        "colab": {
          "base_uri": "https://localhost:8080/"
        }
      },
      "execution_count": null,
      "outputs": [
        {
          "output_type": "stream",
          "name": "stdout",
          "text": [
            "Enter the number of times you want to roll the dice: 3\n",
            "\n",
            "Rolling the dice 3 times:\n",
            "Roll 1: Die 1: 6, Die 2: 3, Total: 9\n",
            "Roll 2: Die 1: 5, Die 2: 2, Total: 7\n",
            "Roll 3: Die 1: 1, Die 2: 4, Total: 5\n"
          ]
        }
      ]
    },
    {
      "cell_type": "markdown",
      "source": [
        "**Question 12:**\n",
        "You are developing a program to calculate shipping costs for an online store. Write a Python program that prompts the user to enter the weight of their package and the distance it needs to be shipped. Calculate the shipping cost based on a flat rate per pound and a per-mile charge.\n"
      ],
      "metadata": {
        "id": "SrK5QaMwGH3x"
      }
    },
    {
      "cell_type": "code",
      "source": [
        "print(\"Per kg rate is $20 and per km charge is $15. \")\n",
        "ud=15\n",
        "uw=20\n",
        "d=int(input(\"Enter distance to be shipped: \"))\n",
        "w=int(input(\"Enter weight to be shipped: \"))\n",
        "ans=(ud*d)+(uw*w)\n",
        "print(f\"Total cost of shippment is {ans}\");"
      ],
      "metadata": {
        "id": "1a-xH1gL_Z5R",
        "outputId": "8ee74b6e-181f-4dcd-bb0c-7f1debe2bb42",
        "colab": {
          "base_uri": "https://localhost:8080/"
        }
      },
      "execution_count": null,
      "outputs": [
        {
          "output_type": "stream",
          "name": "stdout",
          "text": [
            "Per kg rate is $20 and per km charge is $15. \n",
            "Enter distance to be shipped: 2\n",
            "Enter weight to be shipped: 5\n",
            "Total cost of shippment is 130\n"
          ]
        }
      ]
    },
    {
      "cell_type": "markdown",
      "source": [
        "**Question 13:**\n",
        "An e-commerce platform wants to offer discounts on purchases during a sale event. Develop a Python program that applies different discount rates based on the total purchase amount and displays the final price after applying the discount."
      ],
      "metadata": {
        "id": "9bCsaRuAGIeY"
      }
    },
    {
      "cell_type": "code",
      "source": [
        "print(\"Unit price per kg of apple is 100, orange is 150 and mango is 199\")\n",
        "print(\"Discount % on apple is 10%, orange is 20% and mango is 30%\")\n",
        "a=int(input(\"Enter amount of apples: \"))\n",
        "o=int(input(\"Enter amount of ornage: \"))\n",
        "m=int(input(\"Enter amount of mango: \"))\n",
        "tot= (100*a)*0.9+(150*o)*0.8+(199*m)*0.7\n",
        "print(f\"Total value of your cart is {tot}\")\n"
      ],
      "metadata": {
        "id": "krFDhzyvAR0o",
        "colab": {
          "base_uri": "https://localhost:8080/"
        },
        "outputId": "d9817285-3161-4810-fe23-b670932dad42"
      },
      "execution_count": 2,
      "outputs": [
        {
          "output_type": "stream",
          "name": "stdout",
          "text": [
            "Unit price per kg of apple is 100, orange is 150 and mango is 199\n",
            "Discount % on apple is 10%, orange is 20% and mango is 30%\n",
            "Enter amount of apples: 15\n",
            "Enter amount of ornage: 10\n",
            "Enter amount of mango: 15\n",
            "Total value of your cart is 4639.5\n"
          ]
        }
      ]
    },
    {
      "cell_type": "markdown",
      "source": [
        "**Question 14:**\n",
        "A game developer wants to implement a scoring system for a multiplayer game. Develop a Python program that calculates the total score for each player based on their performance in the game and determines the winner.\n"
      ],
      "metadata": {
        "id": "SYgqNFYSGJAr"
      }
    },
    {
      "cell_type": "code",
      "source": [
        "print(\"This is a 3 level game.\")\n",
        "p1=input(\"Enter name of player 1: \")\n",
        "p2=input(\"Enter name of player 2: \")\n",
        "score_1=0\n",
        "score_2=0\n",
        "for i in range(3):\n",
        "  a=int(input(f\"Enter score of {p1}'s level {i+1} : \"))\n",
        "  b=int(input(f\"Enter score of {p2}'s level {i+1} : \"))\n",
        "  score_1+=a\n",
        "  score_2+=b\n",
        "if(score_1>score_2):\n",
        "  print(f\"Winner is {p1} with score {score_1} \")\n",
        "elif(score_1<score_2):\n",
        "  print(f\"Winner is {p2} with score {score_2} \")\n",
        "else:\n",
        "  print(f\"Game is drawn as both have score {score_1} \")\n"
      ],
      "metadata": {
        "id": "iG1xq53hEZpV",
        "outputId": "1fae1fbd-34df-450a-d5bc-c4a0ccfd0eef",
        "colab": {
          "base_uri": "https://localhost:8080/"
        }
      },
      "execution_count": 4,
      "outputs": [
        {
          "output_type": "stream",
          "name": "stdout",
          "text": [
            "This is a 3 level game.\n",
            "Enter name of player 1: sai\n",
            "Enter name of player 2: sam\n",
            "Enter score of sai's level 1 : 10\n",
            "Enter score of sam's level 1 : 10\n",
            "Enter score of sai's level 2 : 20\n",
            "Enter score of sam's level 2 : 20\n",
            "Enter score of sai's level 3 : 30\n",
            "Enter score of sam's level 3 : 30\n",
            "Game is drawn as both have score 60 \n"
          ]
        }
      ]
    },
    {
      "cell_type": "markdown",
      "source": [
        "**Question 15:**\n",
        "A restaurant offers different discounts based on the time of day. Write a Python program that prompts the user for the current time and calculates the appropriate discount based on the following criteria: 10% discount for breakfast (before 10 AM), 20% discount for lunch (between 12 PM and 3 PM), and 15% discount for dinner (after 6 PM). Display the calculated discount to the user.\n"
      ],
      "metadata": {
        "id": "DItKa9JTGJX-"
      }
    },
    {
      "cell_type": "code",
      "source": [
        "current_time = int(input(\"Enter the current time (in 24-hour format, e.g., 9 for 9 AM, 15 for 3 PM): \"))\n",
        "tot_amnt= int(input(\"Enter the total amount of bill: \"))\n",
        "ini_amnt=tot_amnt\n",
        "if(current_time<=10):\n",
        "  tot_amnt*=0.9\n",
        "elif(current_time>12 and current_time<=15):\n",
        "  tot_amnt*=0.8\n",
        "elif(current_time>=18 and current_time<=22):\n",
        "  tot_amnt*=0.75\n",
        "\n",
        "if(ini_amnt==tot_amnt):\n",
        "  print(f\"Sorry no discount available, your total bill is {tot_amnt}\")\n",
        "else:\n",
        "  print(f\"Your total bill is {tot_amnt}\")"
      ],
      "metadata": {
        "id": "zM3WD8onHx5C",
        "outputId": "d493decc-8a3e-4be1-9fd4-bb087deead75",
        "colab": {
          "base_uri": "https://localhost:8080/"
        }
      },
      "execution_count": 6,
      "outputs": [
        {
          "output_type": "stream",
          "name": "stdout",
          "text": [
            "Enter the current time (in 24-hour format, e.g., 9 for 9 AM, 15 for 3 PM): 19\n",
            "Enter the total amount of bill: 1000\n",
            "Your total bill is 750.0\n"
          ]
        }
      ]
    },
    {
      "cell_type": "markdown",
      "source": [
        "**Question 16:**\n",
        "You are organizing a tournament with a single-elimination format. Write a Python program that takes a list of participants and randomly generates the matchups for each round. Print out the matchups for each round until a winner is determined.\n"
      ],
      "metadata": {
        "id": "vINzwcxgGJ1s"
      }
    },
    {
      "cell_type": "markdown",
      "source": [
        "**Question 17:**\n",
        "A data analysis company wants to perform statistical analysis on a dataset containing sales data. Develop a Python program that defines functions for calculating the mean, median, and standard deviation of the dataset and uses them to analyze the data.\n"
      ],
      "metadata": {
        "id": "dargzT41GKMQ"
      }
    },
    {
      "cell_type": "markdown",
      "source": [
        "**Question 18:**\n",
        "A social media platform wants to implement user authentication and authorization functionality. Develop a Python program that defines functions for user login, registration, and access control, and uses them to manage user accounts.\n"
      ],
      "metadata": {
        "id": "UUiONungGKmN"
      }
    },
    {
      "cell_type": "markdown",
      "source": [
        "**Question 19:**\n",
        "You are building a calculator application with various mathematical functions. Write a Python program that defines functions for addition, subtraction, multiplication, and division. Allow the user to choose a function and input the numbers to perform the calculation.\n"
      ],
      "metadata": {
        "id": "K4PIKyVpGLB0"
      }
    },
    {
      "cell_type": "markdown",
      "source": [
        "**Question 20:**\n",
        "A company is organizing a team-building exercise where employees will participate in various activities. Write a Python program to randomly assign employees to teams for each activity, ensuring that each team has an equal number of members.\n",
        "\n"
      ],
      "metadata": {
        "id": "fDUl1UN4GLcB"
      }
    },
    {
      "cell_type": "markdown",
      "source": [
        "**Question 21:**\n",
        "A ticket booking system encounters errors when processing user requests due to invalid input. Develop a Python program that handles errors such as invalid ticket quantities, incorrect payment information, and expired sessions.\n"
      ],
      "metadata": {
        "id": "77dn1GcaGL2k"
      }
    },
    {
      "cell_type": "markdown",
      "source": [
        "**Question 22:**\n",
        "A data processing pipeline encounters errors when reading and writing data files due to file permissions and network issues. Develop a Python program that handles errors such as file not found, permission denied, and connection timeout."
      ],
      "metadata": {
        "id": "1WNO235CGMTG"
      }
    },
    {
      "cell_type": "markdown",
      "source": [
        "**Question 23:**\n",
        "A bank is developing an ATM system. Develop a Python program that simulates withdrawing money from an ATM. Handle errors such as insufficient funds, incorrect PIN entry, and invalid withdrawal amounts. Display appropriate error messages to the user and allow them to retry or cancel the transaction.\n"
      ],
      "metadata": {
        "id": "hVKnUvWPGMs2"
      }
    },
    {
      "cell_type": "markdown",
      "source": [
        "**Question 24:**\n",
        " A small business wants to track inventory using a text file. Write a Python program that allows users to input item details, display all inventory records, and calculate the total value of the inventory.\n",
        "\n",
        "Challenge:\n",
        "\n",
        "Ensure that the program handles input errors gracefully and provides clear feedback to the user in case of invalid input."
      ],
      "metadata": {
        "id": "Umq17pi1GNJB"
      }
    },
    {
      "cell_type": "markdown",
      "source": [
        "**Question 25:**\n",
        "A scientific research project generates experimental data that needs to be stored in files for analysis. Develop a Python program that writes experimental data to text files, including metadata such as timestamps and experiment parameters.\n"
      ],
      "metadata": {
        "id": "bB1ErviJGNhm"
      }
    },
    {
      "cell_type": "markdown",
      "source": [
        "**Question 26:**\n",
        "A research institute collects data from experiments conducted by scientists. Develop a Python program that reads experimental data from a text file, performs basic analysis (e.g., calculating averages, finding maximum values), and saves the results to an output file. Allow users to specify the input and output file paths.\n"
      ],
      "metadata": {
        "id": "Q5BpPjjJGN8y"
      }
    },
    {
      "cell_type": "markdown",
      "source": [
        "**Question 27:**\n",
        "An online bookstore wants to manage information about books, including title, author, genre, and price. Develop a Python program that defines a Book class with attributes and methods for managing book data.\n"
      ],
      "metadata": {
        "id": "2vz_6Ws5GOW5"
      }
    },
    {
      "cell_type": "markdown",
      "source": [
        "**Question 28:**\n",
        "A car rental company wants to track information about rental vehicles, including make, model, year, and availability. Develop a Python program that defines a Car class with attributes and methods for managing rental vehicles.\n"
      ],
      "metadata": {
        "id": "LBV3T7_CGOx1"
      }
    },
    {
      "cell_type": "markdown",
      "source": [
        "**Question 29:**\n",
        "Suppose you're building an online shopping platform. How would you implement an operator-based discount system that applies different discount rates based on the total purchase amount? Provide a Python code snippet to calculate the discounted price for a given purchase amount."
      ],
      "metadata": {
        "id": "_IdaHJHcGPLs"
      }
    },
    {
      "cell_type": "markdown",
      "source": [
        "**Question 30:**\n",
        "A travel agency wants to automate the process of booking flights for customers. Develop a Python program that prompts users to input travel preferences, searches for available flights, and generates booking confirmations.\n"
      ],
      "metadata": {
        "id": "5dkMmxGaGPlT"
      }
    },
    {
      "cell_type": "markdown",
      "source": [
        "**Question 31:**\n",
        "You're developing a program to analyze user comments on a social media platform. How would you handle the storage of user comments, considering that each comment may contain a mix of text, emojis, and hashtags? Recommend a Python data type or combination of data types to efficiently store this heterogeneous data and provide an example of how you would parse and process a sample comment."
      ],
      "metadata": {
        "id": "rB7naZbNGP94"
      }
    },
    {
      "cell_type": "markdown",
      "source": [
        "**Question 32:**\n",
        "You're tasked with designing a program to track financial transactions for a small business. Each transaction includes details such as transaction type (e.g., sale, expense), amount, and date. How would you structure the data to efficiently perform operations like calculating total revenue, expenses, and profit? Recommend a Python data type or structure and outline the process for storing and analyzing transaction data."
      ],
      "metadata": {
        "id": "rDwA6JYSOhLr"
      }
    },
    {
      "cell_type": "markdown",
      "source": [
        "**Question 33:**\n",
        "You're designing a smart home system where certain appliances are activated based on environmental conditions. How would you use bitwise operators to represent different sensor readings (e.g., temperature, humidity, light intensity) and trigger specific actions based on predefined thresholds? Provide a Python code snippet to illustrate this concept."
      ],
      "metadata": {
        "id": "dRSY_FaYOrnR"
      }
    },
    {
      "cell_type": "markdown",
      "source": [
        "**Question 34:**\n",
        "You're developing a program to encrypt and decrypt text messages using a custom encryption algorithm. How would you use bitwise XOR (^) operator to perform encryption and decryption operations on the message? Provide a Python code snippet to encrypt and decrypt a sample message."
      ],
      "metadata": {
        "id": "5UeEELToO48i"
      }
    },
    {
      "cell_type": "markdown",
      "source": [
        "**Question:35**\n",
        "You're developing a language translation service that supports multiple languages. Each translation request consists of a source language, target language, and the text to be translated. How would you organize this information to handle translation requests efficiently? Recommend a Python data type or structure to manage translation requests and provide a sample code snippet to process a translation request."
      ],
      "metadata": {
        "id": "34eAkuWSnSgu"
      }
    },
    {
      "cell_type": "code",
      "source": [],
      "metadata": {
        "id": "SIy58sNj0L6k"
      },
      "execution_count": null,
      "outputs": []
    }
  ]
}